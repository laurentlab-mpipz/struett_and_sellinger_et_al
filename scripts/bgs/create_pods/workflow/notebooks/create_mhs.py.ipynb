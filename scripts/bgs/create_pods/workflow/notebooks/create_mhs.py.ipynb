{
 "cells": [
  {
   "cell_type": "code",
   "execution_count": 19,
   "id": "e5d00199",
   "metadata": {},
   "outputs": [],
   "source": [
    "import pyslim\n",
    "import tskit\n",
    "import numpy as np\n",
    "import tqdm"
   ]
  },
  {
   "cell_type": "code",
   "execution_count": 20,
   "id": "242587df",
   "metadata": {},
   "outputs": [],
   "source": [
    "def fullfill_pyslim(tree_seq, recombrate, pop_size_outcrossing, nsam):\n",
    "    \"\"\"recap and sample to 1 haplotype per individual\n",
    "    \n",
    "    Args:\n",
    "        ts: pyslim tree sequence\n",
    "        \n",
    "    Return:\n",
    "    tree sequence\n",
    "    \"\"\"\n",
    "    # recaptitate; only for the use of the summarizing function; no mutating\n",
    "    recap = tree_seq.recapitate(\n",
    "        recombination_rate=recombrate, Ne=pop_size_outcrossing\n",
    "    )\n",
    "    \n",
    "    ts_1hapInd = sample_1perInd(recap)  # sample a single haplotype per individual\n",
    "    \n",
    "    ts_1perInd_nsam = random_sample_from_treeseq(ts_1hapInd, sample_size=nsam)\n",
    "    \n",
    "    fin_ts = ts_1perInd_nsam.simplify(reduce_to_site_topology=True)\n",
    "    \n",
    "    return fin_ts"
   ]
  },
  {
   "cell_type": "code",
   "execution_count": 21,
   "id": "d8168d50",
   "metadata": {},
   "outputs": [],
   "source": [
    "def sample_1perInd(my_ts, seed=None):\n",
    "    \"\"\"Simplify to one haplotype per individual\n",
    "\n",
    "    Intended to use on pyslim treeseq, we sample only 1 single\n",
    "    haplotype per individual.\n",
    "\n",
    "    Args:\n",
    "        my_ts: tree sequence from pyslim\n",
    "\n",
    "    Returns:\n",
    "        simplified tree sequence with a single haplotype per individual\n",
    "    \"\"\"\n",
    "    np.random.seed(seed)\n",
    "\n",
    "    list_of_1hap_samples = []\n",
    "    for i in my_ts.individuals():\n",
    "        list_of_1hap_samples.append(np.random.choice(i.nodes))\n",
    "    list_of_1hap_samples = np.array(list_of_1hap_samples)\n",
    "\n",
    "    my_simple_ts = my_ts.simplify(samples=list_of_1hap_samples)\n",
    "\n",
    "    return my_simple_ts"
   ]
  },
  {
   "cell_type": "code",
   "execution_count": 22,
   "id": "a0cc98ec",
   "metadata": {},
   "outputs": [],
   "source": [
    "def random_sample_from_treeseq(my_ts, sample_size):\n",
    "    \"\"\"Get a random subsample from the provided tree sequence\n",
    "\n",
    "    Args:\n",
    "        my_ts: a tree sequence\n",
    "        sample_size: the number of samples to choose randomly from\n",
    "\n",
    "    Returns:\n",
    "        simplified tree sequence\n",
    "    \"\"\"\n",
    "    sample_nodes = [i for i in my_ts.samples()]\n",
    "    chosen_samples = np.random.choice(sample_nodes, sample_size, replace=False)\n",
    "    simpel_ts = my_ts.simplify(samples=chosen_samples)\n",
    "    return simpel_ts"
   ]
  },
  {
   "cell_type": "code",
   "execution_count": 23,
   "id": "0c0d3332",
   "metadata": {},
   "outputs": [],
   "source": [
    "# read tree seqs for 5 independent loci\n",
    "tss = [fullfill_pyslim(pyslim.load(ts), snakemake.params.recombrate, snakemake.params.pop_size_outcrossing, snakemake.params.nsam) for ts in snakemake.input.tss]"
   ]
  },
  {
   "cell_type": "code",
   "execution_count": 26,
   "id": "25996c35",
   "metadata": {},
   "outputs": [],
   "source": [
    "with open(snakemake.output.mhs, \"w\") as outf, open(snakemake.log.std, \"w\") as logf:\n",
    "    for chr_identifier, ts in enumerate(tss, start=1):\n",
    "        previous_site_position = 1\n",
    "        nmultiallelics = 0\n",
    "        for variant in tqdm.tqdm(ts.variants(), total=ts.num_sites):\n",
    "            # haplotypes\n",
    "            haplotypes = \"\".join([\"A\" if i == 0 else \"T\" if i == 1 else \"-\"\n",
    "                for i in variant.genotypes])\n",
    "            \n",
    "            if len(set(haplotypes)) == 1:\n",
    "                continue\n",
    "            \n",
    "            # num_called_sites since the last heterozygous site\n",
    "            num_called_sites = int(round(variant.position, 0)) - int(round(\n",
    "                previous_site_position, 0))\n",
    "            previous_site_position = int(round(variant.position, 0))\n",
    "\n",
    "            # do not allow for multiallelic sites\n",
    "            if not num_called_sites:\n",
    "                nmultiallelics += 1\n",
    "                continue\n",
    "\n",
    "            print(chr_identifier, int(round(variant.position, 0)),\n",
    "                num_called_sites, haplotypes, sep=\"\\t\", end=\"\\n\", file=outf)\n",
    "            \n",
    "        print(f\"Chr {chr_identifier}: {nmultiallelics} multiallelic sites\", file=logf)"
   ]
  }
 ],
 "metadata": {
  "kernelspec": {
   "display_name": "Python 3 (ipykernel)",
   "language": "python",
   "name": "python3"
  },
  "language_info": {
   "codemirror_mode": {
    "name": "ipython",
    "version": 3
   },
   "file_extension": ".py",
   "mimetype": "text/x-python",
   "name": "python",
   "nbconvert_exporter": "python",
   "pygments_lexer": "ipython3",
   "version": "3.9.6"
  }
 },
 "nbformat": 4,
 "nbformat_minor": 5
}
