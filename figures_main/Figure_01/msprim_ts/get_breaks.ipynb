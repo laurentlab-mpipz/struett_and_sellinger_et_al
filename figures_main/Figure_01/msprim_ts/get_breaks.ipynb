{
 "cells": [
  {
   "cell_type": "code",
   "execution_count": 4,
   "id": "703dd79b",
   "metadata": {},
   "outputs": [],
   "source": [
    "# get breaks"
   ]
  },
  {
   "cell_type": "code",
   "execution_count": 5,
   "id": "638c42d2",
   "metadata": {},
   "outputs": [],
   "source": [
    "from scripts.pyfunctions import tsabc2"
   ]
  },
  {
   "cell_type": "code",
   "execution_count": 10,
   "id": "2f7f74c1",
   "metadata": {},
   "outputs": [],
   "source": [
    "import tskit\n",
    "import numpy as np\n",
    "import pandas as pd\n",
    "from heapq import nlargest\n",
    "import random\n",
    "import sys\n",
    "import msprime\n",
    "import yaml"
   ]
  },
  {
   "cell_type": "code",
   "execution_count": 13,
   "id": "93ad7d93",
   "metadata": {},
   "outputs": [],
   "source": [
    "# Read YAML file\n",
    "with open(\"config.yaml\", 'r') as stream:\n",
    "    config = yaml.safe_load(stream)"
   ]
  },
  {
   "cell_type": "code",
   "execution_count": 15,
   "id": "614fccfa",
   "metadata": {},
   "outputs": [],
   "source": [
    "class params:\n",
    "    configuration = config"
   ]
  },
  {
   "cell_type": "code",
   "execution_count": 16,
   "id": "1d07e0f2",
   "metadata": {},
   "outputs": [],
   "source": [
    "tsabc = tsabc2()"
   ]
  },
  {
   "cell_type": "code",
   "execution_count": 17,
   "id": "cb3b79a7",
   "metadata": {},
   "outputs": [],
   "source": [
    "breaks = tsabc.get_breaks_for_binnning_tl_true(\n",
    "    float(params.configuration['tl_true_binning_scale_factor']),\n",
    "    np.mean([float(params.configuration['pod_population_size_recent'][0]),\n",
    "        float(params.configuration['pod_population_size_ancient'][0])]),\n",
    "    int(float(params.configuration['tl_true_number_of_bins'])))"
   ]
  },
  {
   "cell_type": "code",
   "execution_count": 19,
   "id": "aff31e25",
   "metadata": {},
   "outputs": [
    {
     "data": {
      "text/plain": [
       "21"
      ]
     },
     "execution_count": 19,
     "metadata": {},
     "output_type": "execute_result"
    }
   ],
   "source": [
    "breaks.size"
   ]
  },
  {
   "cell_type": "code",
   "execution_count": 21,
   "id": "41240500",
   "metadata": {},
   "outputs": [
    {
     "name": "stdout",
     "output_type": "stream",
     "text": [
      "0\t-0.0\n",
      "1\t20517.31775502023\n",
      "2\t42144.206263130516\n",
      "3\t65007.571799109974\n",
      "4\t89257.42052568389\n",
      "5\t115072.82898071237\n",
      "6\t142669.977575493\n",
      "7\t172313.1664369817\n",
      "8\t204330.2495063963\n",
      "9\t239134.80030224816\n",
      "10\t277258.8722239781\n",
      "11\t319403.0784871087\n",
      "12\t366516.292749662\n",
      "13\t419928.84979947115\n",
      "14\t481589.12173037435\n",
      "15\t554517.7444479562\n",
      "16\t643775.1649736402\n",
      "17\t758847.9939543525\n",
      "18\t921034.0371976184\n",
      "19\t1198292.909421596\n",
      "20\tinf\n"
     ]
    }
   ],
   "source": [
    "for i, b in enumerate(breaks):\n",
    "    print(f\"{i}\\t{b}\")"
   ]
  },
  {
   "cell_type": "code",
   "execution_count": 22,
   "id": "7aa18cbe",
   "metadata": {},
   "outputs": [],
   "source": [
    "np.save(\"data/breaks/tmrca.bins.wc.0.ts.50000.0.95.3.4e-09.20000000.CS.4.npy\", breaks)"
   ]
  },
  {
   "cell_type": "code",
   "execution_count": null,
   "id": "386b8eaf",
   "metadata": {},
   "outputs": [],
   "source": []
  }
 ],
 "metadata": {
  "kernelspec": {
   "display_name": "Python 3 (ipykernel)",
   "language": "python",
   "name": "python3"
  },
  "language_info": {
   "codemirror_mode": {
    "name": "ipython",
    "version": 3
   },
   "file_extension": ".py",
   "mimetype": "text/x-python",
   "name": "python",
   "nbconvert_exporter": "python",
   "pygments_lexer": "ipython3",
   "version": "3.8.12"
  }
 },
 "nbformat": 4,
 "nbformat_minor": 5
}
